{
 "cells": [
  {
   "cell_type": "code",
   "execution_count": 1,
   "metadata": {},
   "outputs": [
    {
     "data": {
      "text/plain": [
       "Data(edge_index=[2, 4], x=[3, 1])"
      ]
     },
     "execution_count": 1,
     "metadata": {},
     "output_type": "execute_result"
    }
   ],
   "source": [
    "# https://pytorch-geometric.readthedocs.io/en/latest/notes/introduction.html#data-handling-of-graphs\n",
    "\n",
    "import torch\n",
    "from torch_geometric.data import Data\n",
    "\n",
    "# The graph has only two edges, we need to define four index tuples to account for both directions of a edge\n",
    "edge_index = torch.tensor([[0, 1, 1, 2],\n",
    "                           [1, 0, 2, 1]], dtype=torch.long)\n",
    "\n",
    "x = torch.tensor([[-1], [0], [1]], dtype=torch.float)\n",
    "\n",
    "data = Data(x=x, edge_index=edge_index)\n",
    "\n",
    "data"
   ]
  },
  {
   "cell_type": "code",
   "execution_count": 2,
   "metadata": {},
   "outputs": [
    {
     "name": "stdout",
     "output_type": "stream",
     "text": [
      "Data keys : ['x', 'edge_index']\n",
      "Edge Index :\n",
      " tensor([[0, 1, 1, 2],\n",
      "        [1, 0, 2, 1]])\n",
      "\n",
      "Node Ids :\n",
      " tensor([[-1.],\n",
      "        [ 0.],\n",
      "        [ 1.]])\n",
      "'edge_index' found in data\n",
      "'x' found in data\n"
     ]
    }
   ],
   "source": [
    "print(\"Data keys :\", data.keys)\n",
    "print(\"Edge Index :\\n\", data['edge_index'])\n",
    "\n",
    "print(\"\\nNode Ids :\\n\", data['x'])\n",
    "\n",
    "for key, item in data:\n",
    "    print(\"'{}' found in data\".format(key))"
   ]
  },
  {
   "cell_type": "code",
   "execution_count": 3,
   "metadata": {},
   "outputs": [
    {
     "name": "stdout",
     "output_type": "stream",
     "text": [
      "Number of nodes : 3\n",
      "Number of node features : 1\n",
      "\n",
      "Number of edges : 4\n",
      "Number of edge features : 0\n",
      "Contain isolated nodes : False\n",
      "Contain self loops : False\n",
      "Is graph directed : False\n",
      "\n",
      "Device : cuda\n"
     ]
    }
   ],
   "source": [
    "'edge_attr' in data\n",
    "\n",
    "print(\"Number of nodes :\", data.num_nodes)\n",
    "print(\"Number of node features :\", data.num_node_features)\n",
    "print(\"\\nNumber of edges :\", data.num_edges)\n",
    "print(\"Number of edge features :\", data.num_edge_features)\n",
    "\n",
    "print(\"Contain isolated nodes :\", data.contains_isolated_nodes())\n",
    "print(\"Contain self loops :\", data.contains_self_loops())\n",
    "print(\"Is graph directed :\", data.is_directed())\n",
    "\n",
    "# Transfer data object to GPU.\n",
    "device = torch.device('cuda')\n",
    "print(\"\\nDevice :\", device)\n",
    "data = data.to(device)"
   ]
  },
  {
   "cell_type": "code",
   "execution_count": null,
   "metadata": {},
   "outputs": [],
   "source": []
  }
 ],
 "metadata": {
  "kernelspec": {
   "display_name": "Python 3",
   "language": "python",
   "name": "python3"
  },
  "language_info": {
   "codemirror_mode": {
    "name": "ipython",
    "version": 3
   },
   "file_extension": ".py",
   "mimetype": "text/x-python",
   "name": "python",
   "nbconvert_exporter": "python",
   "pygments_lexer": "ipython3",
   "version": "3.6.9"
  }
 },
 "nbformat": 4,
 "nbformat_minor": 4
}
